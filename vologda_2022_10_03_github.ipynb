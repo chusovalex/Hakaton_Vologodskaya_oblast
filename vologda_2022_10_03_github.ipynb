{
 "cells": [
  {
   "cell_type": "markdown",
   "metadata": {
    "toc": true
   },
   "source": [
    "<h1>Содержание<span class=\"tocSkip\"></span></h1>\n",
    "<div class=\"toc\"><ul class=\"toc-item\"><li><span><a href=\"#Обучающая-выборка\" data-toc-modified-id=\"Обучающая-выборка-1\"><span class=\"toc-item-num\">1&nbsp;&nbsp;</span>Обучающая выборка</a></span></li><li><span><a href=\"#Предобработка\" data-toc-modified-id=\"Предобработка-2\"><span class=\"toc-item-num\">2&nbsp;&nbsp;</span>Предобработка</a></span><ul class=\"toc-item\"><li><span><a href=\"#Очистка-текста\" data-toc-modified-id=\"Очистка-текста-2.1\"><span class=\"toc-item-num\">2.1&nbsp;&nbsp;</span>Очистка текста</a></span></li><li><span><a href=\"#Лемматизация\" data-toc-modified-id=\"Лемматизация-2.2\"><span class=\"toc-item-num\">2.2&nbsp;&nbsp;</span>Лемматизация</a></span></li><li><span><a href=\"#Количество-слов-тексте\" data-toc-modified-id=\"Количество-слов-тексте-2.3\"><span class=\"toc-item-num\">2.3&nbsp;&nbsp;</span>Количество слов тексте</a></span></li></ul></li><li><span><a href=\"#Кодирование-категориальных-признаков\" data-toc-modified-id=\"Кодирование-категориальных-признаков-3\"><span class=\"toc-item-num\">3&nbsp;&nbsp;</span>Кодирование категориальных признаков</a></span></li><li><span><a href=\"#Разделим-обучающую-выборку\" data-toc-modified-id=\"Разделим-обучающую-выборку-4\"><span class=\"toc-item-num\">4&nbsp;&nbsp;</span>Разделим обучающую выборку</a></span></li><li><span><a href=\"#тестовая-выборка\" data-toc-modified-id=\"тестовая-выборка-5\"><span class=\"toc-item-num\">5&nbsp;&nbsp;</span>тестовая выборка</a></span><ul class=\"toc-item\"><li><span><a href=\"#очистка-и-лемматизация\" data-toc-modified-id=\"очистка-и-лемматизация-5.1\"><span class=\"toc-item-num\">5.1&nbsp;&nbsp;</span>очистка и лемматизация</a></span></li><li><span><a href=\"#количество-слов-в-комментариях\" data-toc-modified-id=\"количество-слов-в-комментариях-5.2\"><span class=\"toc-item-num\">5.2&nbsp;&nbsp;</span>количество слов в комментариях</a></span></li><li><span><a href=\"#категоризация\" data-toc-modified-id=\"категоризация-5.3\"><span class=\"toc-item-num\">5.3&nbsp;&nbsp;</span>категоризация</a></span></li></ul></li><li><span><a href=\"#Подготовка-к-обучению\" data-toc-modified-id=\"Подготовка-к-обучению-6\"><span class=\"toc-item-num\">6&nbsp;&nbsp;</span>Подготовка к обучению</a></span></li><li><span><a href=\"#таргет-релевантность\" data-toc-modified-id=\"таргет-релевантность-7\"><span class=\"toc-item-num\">7&nbsp;&nbsp;</span>таргет релевантность</a></span><ul class=\"toc-item\"><li><span><a href=\"#CatBoostClassifier\" data-toc-modified-id=\"CatBoostClassifier-7.1\"><span class=\"toc-item-num\">7.1&nbsp;&nbsp;</span>CatBoostClassifier</a></span></li><li><span><a href=\"#предсказание-на-тесте\" data-toc-modified-id=\"предсказание-на-тесте-7.2\"><span class=\"toc-item-num\">7.2&nbsp;&nbsp;</span>предсказание на тесте</a></span></li></ul></li><li><span><a href=\"#таргет-длина_отзыва\" data-toc-modified-id=\"таргет-длина_отзыва-8\"><span class=\"toc-item-num\">8&nbsp;&nbsp;</span>таргет длина_отзыва</a></span><ul class=\"toc-item\"><li><span><a href=\"#CatBoostClassifier\" data-toc-modified-id=\"CatBoostClassifier-8.1\"><span class=\"toc-item-num\">8.1&nbsp;&nbsp;</span>CatBoostClassifier</a></span></li><li><span><a href=\"#предсказание-на-тесте\" data-toc-modified-id=\"предсказание-на-тесте-8.2\"><span class=\"toc-item-num\">8.2&nbsp;&nbsp;</span>предсказание на тесте</a></span></li></ul></li><li><span><a href=\"#таргет-таксономия_релевантные\" data-toc-modified-id=\"таргет-таксономия_релевантные-9\"><span class=\"toc-item-num\">9&nbsp;&nbsp;</span>таргет таксономия_релевантные</a></span><ul class=\"toc-item\"><li><span><a href=\"#CatBoostClassifier\" data-toc-modified-id=\"CatBoostClassifier-9.1\"><span class=\"toc-item-num\">9.1&nbsp;&nbsp;</span>CatBoostClassifier</a></span></li><li><span><a href=\"#предсказание-на-тесте\" data-toc-modified-id=\"предсказание-на-тесте-9.2\"><span class=\"toc-item-num\">9.2&nbsp;&nbsp;</span>предсказание на тесте</a></span></li></ul></li><li><span><a href=\"#таксономия_не_релевантные\" data-toc-modified-id=\"таксономия_не_релевантные-10\"><span class=\"toc-item-num\">10&nbsp;&nbsp;</span>таксономия_не_релевантные</a></span><ul class=\"toc-item\"><li><span><a href=\"#CatBoostClassifier\" data-toc-modified-id=\"CatBoostClassifier-10.1\"><span class=\"toc-item-num\">10.1&nbsp;&nbsp;</span>CatBoostClassifier</a></span></li><li><span><a href=\"#предсказание-на-тесте\" data-toc-modified-id=\"предсказание-на-тесте-10.2\"><span class=\"toc-item-num\">10.2&nbsp;&nbsp;</span>предсказание на тесте</a></span></li></ul></li><li><span><a href=\"#таргет-ценности\" data-toc-modified-id=\"таргет-ценности-11\"><span class=\"toc-item-num\">11&nbsp;&nbsp;</span>таргет ценности</a></span><ul class=\"toc-item\"><li><span><a href=\"#CatBoostClassifier\" data-toc-modified-id=\"CatBoostClassifier-11.1\"><span class=\"toc-item-num\">11.1&nbsp;&nbsp;</span>CatBoostClassifier</a></span></li><li><span><a href=\"#предсказание-на-тесте\" data-toc-modified-id=\"предсказание-на-тесте-11.2\"><span class=\"toc-item-num\">11.2&nbsp;&nbsp;</span>предсказание на тесте</a></span></li></ul></li><li><span><a href=\"#Подготовка-результатов\" data-toc-modified-id=\"Подготовка-результатов-12\"><span class=\"toc-item-num\">12&nbsp;&nbsp;</span>Подготовка результатов</a></span><ul class=\"toc-item\"><li><span><a href=\"#запись-в-файл\" data-toc-modified-id=\"запись-в-файл-12.1\"><span class=\"toc-item-num\">12.1&nbsp;&nbsp;</span>запись в файл</a></span></li></ul></li></ul></div>"
   ]
  },
  {
   "cell_type": "markdown",
   "metadata": {},
   "source": [
    "# Выявление элементов культурного кода россиян в отзывах о произведениях художественной литературы"
   ]
  },
  {
   "cell_type": "markdown",
   "metadata": {},
   "source": [
    "**Введение:**\n",
    "    \n",
    "Одной из задач Вятского государственного университета в рамках программы «Приоритет-2030» является изучение культурного кода россиян. Культурный код – это коллективное бессознательное, которое явно не осознается, но предопределяет наши поступки. Существует гипотеза ученых, что элементы культурного кода можно найти в отзывах о литературных произведениях. Представленный вам датасет содержит отзывы о произведениях художественной литературы, получивших признание в виде российских литературных премий за 2000-2021 гг., размещенных на сайте «Литрес».\n",
    "\n",
    "**Условие задачи:**\n",
    "\n",
    "Разработать модель, выявляющую отзывы, в которых содержатся элементы культурного кода. Отзыв считается релевантным, если он обладает ценностно-смысловым содержанием, и его автор вписывает эти смыслы и ценности в свой жизненный и культурный контекст, идентифицирует себя с героями, содержанием, исторической судьбой народа.\n"
   ]
  },
  {
   "cell_type": "code",
   "execution_count": 1,
   "metadata": {
    "id": "BwNGqMidQiRi"
   },
   "outputs": [],
   "source": [
    "import matplotlib.pyplot as plt\n",
    "import nltk\n",
    "import numpy as np\n",
    "import os\n",
    "import pandas as pd\n",
    "import pymorphy2\n",
    "import re\n",
    "import seaborn as sns\n",
    "import time"
   ]
  },
  {
   "cell_type": "code",
   "execution_count": 2,
   "metadata": {},
   "outputs": [],
   "source": [
    "from catboost import CatBoostClassifier\n",
    "from nltk.corpus import stopwords as nltk_stopwords\n",
    "from nltk import word_tokenize\n",
    "from sklearn.feature_extraction.text import CountVectorizer\n",
    "from sklearn.metrics import make_scorer\n",
    "from sklearn.metrics import recall_score\n",
    "from sklearn.model_selection import GridSearchCV\n",
    "from sklearn.pipeline import Pipeline\n",
    "from sklearn.preprocessing import OrdinalEncoder"
   ]
  },
  {
   "cell_type": "code",
   "execution_count": 3,
   "metadata": {},
   "outputs": [],
   "source": [
    "pd.options.display.max_colwidth = 1000\n",
    "pd.set_option('display.max_columns', 500)"
   ]
  },
  {
   "cell_type": "code",
   "execution_count": 4,
   "metadata": {},
   "outputs": [
    {
     "name": "stderr",
     "output_type": "stream",
     "text": [
      "[nltk_data] Downloading package stopwords to /Users/home/nltk_data...\n",
      "[nltk_data]   Package stopwords is already up-to-date!\n"
     ]
    }
   ],
   "source": [
    "nltk.download('stopwords')\n",
    "stop_words = set(nltk_stopwords.words('russian'))"
   ]
  },
  {
   "cell_type": "markdown",
   "metadata": {
    "id": "GywlangPRAEm"
   },
   "source": [
    "## Обучающая выборка"
   ]
  },
  {
   "cell_type": "code",
   "execution_count": 5,
   "metadata": {},
   "outputs": [],
   "source": [
    "df_train = pd.read_csv(\"datasets/vologda_train_dataset_train.csv\")"
   ]
  },
  {
   "cell_type": "code",
   "execution_count": 6,
   "metadata": {
    "colab": {
     "base_uri": "https://localhost:8080/",
     "height": 433
    },
    "id": "gvcl_K3FQ-os",
    "outputId": "3723d6bb-3ee0-4c12-a20b-fd6c3dc58237",
    "scrolled": false
   },
   "outputs": [
    {
     "data": {
      "text/html": [
       "<div>\n",
       "<style scoped>\n",
       "    .dataframe tbody tr th:only-of-type {\n",
       "        vertical-align: middle;\n",
       "    }\n",
       "\n",
       "    .dataframe tbody tr th {\n",
       "        vertical-align: top;\n",
       "    }\n",
       "\n",
       "    .dataframe thead th {\n",
       "        text-align: right;\n",
       "    }\n",
       "</style>\n",
       "<table border=\"1\" class=\"dataframe\">\n",
       "  <thead>\n",
       "    <tr style=\"text-align: right;\">\n",
       "      <th></th>\n",
       "      <th>0</th>\n",
       "      <th>1</th>\n",
       "      <th>2</th>\n",
       "    </tr>\n",
       "  </thead>\n",
       "  <tbody>\n",
       "    <tr>\n",
       "      <th>RecordNo</th>\n",
       "      <td>6145</td>\n",
       "      <td>7006</td>\n",
       "      <td>1124</td>\n",
       "    </tr>\n",
       "    <tr>\n",
       "      <th>Название книги</th>\n",
       "      <td>Зулейха открывает глаза</td>\n",
       "      <td>Зулейха открывает глаза</td>\n",
       "      <td>Дети мои</td>\n",
       "    </tr>\n",
       "    <tr>\n",
       "      <th>Автор</th>\n",
       "      <td>Гузель Яхина</td>\n",
       "      <td>Гузель Яхина</td>\n",
       "      <td>Гузель Яхина</td>\n",
       "    </tr>\n",
       "    <tr>\n",
       "      <th>Ссылка на литрес</th>\n",
       "      <td>https://www.litres.ru/guzel-yahina/zuleyha-otkryvaet-glaza-15879612/</td>\n",
       "      <td>https://www.litres.ru/guzel-yahina/zuleyha-otkryvaet-glaza-9527389/</td>\n",
       "      <td>https://www.litres.ru/guzel-yahina/deti-moi/</td>\n",
       "    </tr>\n",
       "    <tr>\n",
       "      <th>Рейтинг</th>\n",
       "      <td>4.7</td>\n",
       "      <td>4.6</td>\n",
       "      <td>4.4</td>\n",
       "    </tr>\n",
       "    <tr>\n",
       "      <th>Количество оценок</th>\n",
       "      <td>3922</td>\n",
       "      <td>24719</td>\n",
       "      <td>8032</td>\n",
       "    </tr>\n",
       "    <tr>\n",
       "      <th>Количество отзывов</th>\n",
       "      <td>408</td>\n",
       "      <td>2103</td>\n",
       "      <td>702</td>\n",
       "    </tr>\n",
       "    <tr>\n",
       "      <th>Имя читателя</th>\n",
       "      <td>Айгуль Ляпина</td>\n",
       "      <td>Olga T</td>\n",
       "      <td>Кирилл Чириков</td>\n",
       "    </tr>\n",
       "    <tr>\n",
       "      <th>Оценка книги читателем (из 5 баллов)</th>\n",
       "      <td>5.0</td>\n",
       "      <td>5.0</td>\n",
       "      <td>5.0</td>\n",
       "    </tr>\n",
       "    <tr>\n",
       "      <th>Отзыв</th>\n",
       "      <td>Рекомендую книгу в прочтению/прослушиванию. Есть о чем задуматься… Написано тоже осень хорошо. Иногда даже всплакнуть хотелось. Рада, что не жила в то время.</td>\n",
       "      <td>Удивительно, что сейчас возникает ТАКАЯ литература. Заставляет задуматься о кулаках (в школе ведь нам рассказывали совсем другое), о жизни татарских женщин и взглядах на мир. Книга понравилась. Местами с написано немного наивно и простовато. Тем не менее, прочитать однозначно стоит.</td>\n",
       "      <td>Душевно, жизненно, чувственно, проникновенно!!!! История, которая проникает в мысли, непринуждённости заставляет задуматься о смысле бытия, об отношениях между близкими и семье!!! В очередной раз убедилась о силе слов, каждое сказанное, написанное слово- новый мир, вселенная!!!</td>\n",
       "    </tr>\n",
       "    <tr>\n",
       "      <th>Лайки на отзыв</th>\n",
       "      <td>0</td>\n",
       "      <td>0</td>\n",
       "      <td>0</td>\n",
       "    </tr>\n",
       "    <tr>\n",
       "      <th>Дислайки на отзыв</th>\n",
       "      <td>3</td>\n",
       "      <td>1</td>\n",
       "      <td>0</td>\n",
       "    </tr>\n",
       "    <tr>\n",
       "      <th>Релевантность</th>\n",
       "      <td>0</td>\n",
       "      <td>0</td>\n",
       "      <td>0</td>\n",
       "    </tr>\n",
       "    <tr>\n",
       "      <th>Таксономия релевантные</th>\n",
       "      <td>0</td>\n",
       "      <td>0</td>\n",
       "      <td>1</td>\n",
       "    </tr>\n",
       "    <tr>\n",
       "      <th>Таксономия не релевантные</th>\n",
       "      <td>0</td>\n",
       "      <td>0</td>\n",
       "      <td>0</td>\n",
       "    </tr>\n",
       "    <tr>\n",
       "      <th>Длина отзыва</th>\n",
       "      <td>0</td>\n",
       "      <td>0</td>\n",
       "      <td>0</td>\n",
       "    </tr>\n",
       "    <tr>\n",
       "      <th>Ценности</th>\n",
       "      <td>0</td>\n",
       "      <td>1</td>\n",
       "      <td>1</td>\n",
       "    </tr>\n",
       "  </tbody>\n",
       "</table>\n",
       "</div>"
      ],
      "text/plain": [
       "                                                                                                                                                                                                  0  \\\n",
       "RecordNo                                                                                                                                                                                       6145   \n",
       "Название книги                                                                                                                                                              Зулейха открывает глаза   \n",
       "Автор                                                                                                                                                                                  Гузель Яхина   \n",
       "Ссылка на литрес                                                                                                               https://www.litres.ru/guzel-yahina/zuleyha-otkryvaet-glaza-15879612/   \n",
       "Рейтинг                                                                                                                                                                                         4.7   \n",
       "Количество оценок                                                                                                                                                                              3922   \n",
       "Количество отзывов                                                                                                                                                                              408   \n",
       "Имя читателя                                                                                                                                                                          Айгуль Ляпина   \n",
       "Оценка книги читателем (из 5 баллов)                                                                                                                                                            5.0   \n",
       "Отзыв                                 Рекомендую книгу в прочтению/прослушиванию. Есть о чем задуматься… Написано тоже осень хорошо. Иногда даже всплакнуть хотелось. Рада, что не жила в то время.   \n",
       "Лайки на отзыв                                                                                                                                                                                    0   \n",
       "Дислайки на отзыв                                                                                                                                                                                 3   \n",
       "Релевантность                                                                                                                                                                                     0   \n",
       "Таксономия релевантные                                                                                                                                                                            0   \n",
       "Таксономия не релевантные                                                                                                                                                                         0   \n",
       "Длина отзыва                                                                                                                                                                                      0   \n",
       "Ценности                                                                                                                                                                                          0   \n",
       "\n",
       "                                                                                                                                                                                                                                                                                                                                1  \\\n",
       "RecordNo                                                                                                                                                                                                                                                                                                                     7006   \n",
       "Название книги                                                                                                                                                                                                                                                                                            Зулейха открывает глаза   \n",
       "Автор                                                                                                                                                                                                                                                                                                                Гузель Яхина   \n",
       "Ссылка на литрес                                                                                                                                                                                                                                              https://www.litres.ru/guzel-yahina/zuleyha-otkryvaet-glaza-9527389/   \n",
       "Рейтинг                                                                                                                                                                                                                                                                                                                       4.6   \n",
       "Количество оценок                                                                                                                                                                                                                                                                                                           24719   \n",
       "Количество отзывов                                                                                                                                                                                                                                                                                                           2103   \n",
       "Имя читателя                                                                                                                                                                                                                                                                                                               Olga T   \n",
       "Оценка книги читателем (из 5 баллов)                                                                                                                                                                                                                                                                                          5.0   \n",
       "Отзыв                                 Удивительно, что сейчас возникает ТАКАЯ литература. Заставляет задуматься о кулаках (в школе ведь нам рассказывали совсем другое), о жизни татарских женщин и взглядах на мир. Книга понравилась. Местами с написано немного наивно и простовато. Тем не менее, прочитать однозначно стоит.   \n",
       "Лайки на отзыв                                                                                                                                                                                                                                                                                                                  0   \n",
       "Дислайки на отзыв                                                                                                                                                                                                                                                                                                               1   \n",
       "Релевантность                                                                                                                                                                                                                                                                                                                   0   \n",
       "Таксономия релевантные                                                                                                                                                                                                                                                                                                          0   \n",
       "Таксономия не релевантные                                                                                                                                                                                                                                                                                                       0   \n",
       "Длина отзыва                                                                                                                                                                                                                                                                                                                    0   \n",
       "Ценности                                                                                                                                                                                                                                                                                                                        1   \n",
       "\n",
       "                                                                                                                                                                                                                                                                                                                           2  \n",
       "RecordNo                                                                                                                                                                                                                                                                                                                1124  \n",
       "Название книги                                                                                                                                                                                                                                                                                                      Дети мои  \n",
       "Автор                                                                                                                                                                                                                                                                                                           Гузель Яхина  \n",
       "Ссылка на литрес                                                                                                                                                                                                                                                                https://www.litres.ru/guzel-yahina/deti-moi/  \n",
       "Рейтинг                                                                                                                                                                                                                                                                                                                  4.4  \n",
       "Количество оценок                                                                                                                                                                                                                                                                                                       8032  \n",
       "Количество отзывов                                                                                                                                                                                                                                                                                                       702  \n",
       "Имя читателя                                                                                                                                                                                                                                                                                                  Кирилл Чириков  \n",
       "Оценка книги читателем (из 5 баллов)                                                                                                                                                                                                                                                                                     5.0  \n",
       "Отзыв                                 Душевно, жизненно, чувственно, проникновенно!!!! История, которая проникает в мысли, непринуждённости заставляет задуматься о смысле бытия, об отношениях между близкими и семье!!! В очередной раз убедилась о силе слов, каждое сказанное, написанное слово- новый мир, вселенная!!!  \n",
       "Лайки на отзыв                                                                                                                                                                                                                                                                                                             0  \n",
       "Дислайки на отзыв                                                                                                                                                                                                                                                                                                          0  \n",
       "Релевантность                                                                                                                                                                                                                                                                                                              0  \n",
       "Таксономия релевантные                                                                                                                                                                                                                                                                                                     1  \n",
       "Таксономия не релевантные                                                                                                                                                                                                                                                                                                  0  \n",
       "Длина отзыва                                                                                                                                                                                                                                                                                                               0  \n",
       "Ценности                                                                                                                                                                                                                                                                                                                   1  "
      ]
     },
     "metadata": {},
     "output_type": "display_data"
    },
    {
     "name": "stdout",
     "output_type": "stream",
     "text": [
      "<class 'pandas.core.frame.DataFrame'>\n",
      "RangeIndex: 4839 entries, 0 to 4838\n",
      "Data columns (total 17 columns):\n",
      " #   Column                                Non-Null Count  Dtype  \n",
      "---  ------                                --------------  -----  \n",
      " 0   RecordNo                              4839 non-null   int64  \n",
      " 1   Название книги                        4839 non-null   object \n",
      " 2   Автор                                 4839 non-null   object \n",
      " 3   Ссылка на литрес                      4839 non-null   object \n",
      " 4   Рейтинг                               4839 non-null   float64\n",
      " 5   Количество оценок                     4839 non-null   int64  \n",
      " 6   Количество отзывов                    4839 non-null   int64  \n",
      " 7   Имя читателя                          4839 non-null   object \n",
      " 8   Оценка книги читателем (из 5 баллов)  4070 non-null   float64\n",
      " 9   Отзыв                                 4839 non-null   object \n",
      " 10  Лайки на отзыв                        4839 non-null   int64  \n",
      " 11  Дислайки на отзыв                     4839 non-null   int64  \n",
      " 12  Релевантность                         4839 non-null   int64  \n",
      " 13  Таксономия релевантные                4839 non-null   int64  \n",
      " 14  Таксономия не релевантные             4839 non-null   int64  \n",
      " 15  Длина отзыва                          4839 non-null   int64  \n",
      " 16  Ценности                              4839 non-null   int64  \n",
      "dtypes: float64(2), int64(10), object(5)\n",
      "memory usage: 642.8+ KB\n",
      "None\n",
      "                                       count         mean          std  min  \\\n",
      "RecordNo                              4839.0  4022.292829  2297.657785  2.0   \n",
      "Рейтинг                               4839.0     4.504546     0.189645  3.2   \n",
      "Количество оценок                     4839.0  8864.133499  9956.818440  1.0   \n",
      "Количество отзывов                    4839.0   764.269890   841.728494  1.0   \n",
      "Оценка книги читателем (из 5 баллов)  4070.0     4.502703     1.035078  1.0   \n",
      "Лайки на отзыв                        4839.0     4.025832    26.075881  0.0   \n",
      "Дислайки на отзыв                     4839.0     1.790453    10.973393  0.0   \n",
      "Релевантность                         4839.0     0.218640     0.413367  0.0   \n",
      "Таксономия релевантные                4839.0     0.512296     0.499900  0.0   \n",
      "Таксономия не релевантные             4839.0     0.126886     0.332879  0.0   \n",
      "Длина отзыва                          4839.0     0.234759     0.423892  0.0   \n",
      "Ценности                              4839.0     0.542054     0.498280  0.0   \n",
      "\n",
      "                                         25%     50%      75%      max  \n",
      "RecordNo                              2042.0  4058.0   6028.0   7960.0  \n",
      "Рейтинг                                  4.4     4.6      4.6      5.0  \n",
      "Количество оценок                     1212.0  3551.0  24719.0  24719.0  \n",
      "Количество отзывов                     113.0   285.0   2103.0   2103.0  \n",
      "Оценка книги читателем (из 5 баллов)     5.0     5.0      5.0      5.0  \n",
      "Лайки на отзыв                           0.0     0.0      2.0    874.0  \n",
      "Дислайки на отзыв                        0.0     1.0      1.0    459.0  \n",
      "Релевантность                            0.0     0.0      0.0      1.0  \n",
      "Таксономия релевантные                   0.0     1.0      1.0      1.0  \n",
      "Таксономия не релевантные                0.0     0.0      0.0      1.0  \n",
      "Длина отзыва                             0.0     0.0      0.0      1.0  \n",
      "Ценности                                 0.0     1.0      1.0      1.0  \n"
     ]
    }
   ],
   "source": [
    "display(df_train.head(3).T)\n",
    "print(df_train.info())\n",
    "print(df_train.describe().T)"
   ]
  },
  {
   "cell_type": "markdown",
   "metadata": {},
   "source": [
    "**Описание признаков:**\n",
    "-  recordNo — уникальный идентификатор отзыва\n",
    "-  Название книги — название книги, на которую оставлен отзыв\n",
    "-  Автор — автор книги\n",
    "-  Ссылка на литрес — ссылка на книгу\n",
    "-  Рейтинг — общий рейтинг книги, рассчитанный на основе всех отзывов\n",
    "-  Количество оценок — суммарное число оценок книги в обзоре\n",
    "-  Количество отзывов — суммарное число письменных обзоров книги\n",
    "-  Имя читателя — имя пользователя, оставившего отзыв\n",
    "-  Оценка книги читателем (из 5 баллов) — оценка книги конкретным\n",
    "пользователем\n",
    "-  Отзыв — текст отзыва\n",
    "-  Лайки на отзыв — количество положительных оценок отзыва,\n",
    "оставленных другими пользователями\n",
    "-  Дислайки на отзыв — количество отрицательных оценок отзыва,\n",
    "оставленных другими пользователями\n",
    "\n",
    "**Предсказываемые значения**:\n",
    "- Релевантность — характеристика, отражающая степень соответствия контента теме исследования \n",
    "    - 0 - Нерелевантно\n",
    "    - 1 - Релевантно\n",
    "- Ценности — наличие необходимых ценностей в тексте\n",
    "    - 0 - Нерелевантно\n",
    "    - 1 - Релевантно\n",
    "- Таксономия релевантные — наличие в тексте отзыва слов, словосочетаний, связей между словами из словаря синонимических рядов каждой категории, обозначающих духовно-нравственную ценность\n",
    "    - 0 - не определено\n",
    "    - 1 - определено\n",
    "- Таксономия нерелевантные — наличие в тексте отзыва слов, словосочетаний, связей между словами из словаря синонимических рядов каждой категории, обозначающих духовно-нравственную ценность, не подходящую к теме исследования\n",
    "    - 0 - не определено\n",
    "    - 1 - определено\n",
    "- Длина отзыва — наличие у отзыва оптимального числа слов\n",
    "    - 0 - не определено\n",
    "    - 1 - определено"
   ]
  },
  {
   "cell_type": "code",
   "execution_count": 7,
   "metadata": {},
   "outputs": [
    {
     "data": {
      "text/plain": [
       "RecordNo                                4839\n",
       "Название книги                           103\n",
       "Автор                                     59\n",
       "Ссылка на литрес                         144\n",
       "Рейтинг                                   18\n",
       "Количество оценок                        106\n",
       "Количество отзывов                        57\n",
       "Имя читателя                            4263\n",
       "Оценка книги читателем (из 5 баллов)       5\n",
       "Отзыв                                   4826\n",
       "Лайки на отзыв                            98\n",
       "Дислайки на отзыв                         47\n",
       "Релевантность                              2\n",
       "Таксономия релевантные                     2\n",
       "Таксономия не релевантные                  2\n",
       "Длина отзыва                               2\n",
       "Ценности                                   2\n",
       "dtype: int64"
      ]
     },
     "execution_count": 7,
     "metadata": {},
     "output_type": "execute_result"
    }
   ],
   "source": [
    "df_train.nunique()"
   ]
  },
  {
   "cell_type": "code",
   "execution_count": 8,
   "metadata": {},
   "outputs": [
    {
     "data": {
      "text/plain": [
       "Index(['recordno', 'название_книги', 'автор', 'ссылка_на_литрес', 'рейтинг',\n",
       "       'количество_оценок', 'количество_отзывов', 'имя_читателя',\n",
       "       'оценка_книги_читателем_(из_5_баллов)', 'отзыв', 'лайки_на_отзыв',\n",
       "       'дислайки_на_отзыв', 'релевантность', 'таксономия_релевантные',\n",
       "       'таксономия_не_релевантные', 'длина_отзыва', 'ценности'],\n",
       "      dtype='object')"
      ]
     },
     "execution_count": 8,
     "metadata": {},
     "output_type": "execute_result"
    }
   ],
   "source": [
    "df_train.columns = df_train.columns.str.lower().str.replace(' ', '_')\n",
    "df_train.columns"
   ]
  },
  {
   "cell_type": "code",
   "execution_count": 9,
   "metadata": {},
   "outputs": [
    {
     "data": {
      "text/plain": [
       "0"
      ]
     },
     "execution_count": 9,
     "metadata": {},
     "output_type": "execute_result"
    }
   ],
   "source": [
    "df_train.duplicated().sum()"
   ]
  },
  {
   "cell_type": "markdown",
   "metadata": {},
   "source": [
    "## Предобработка"
   ]
  },
  {
   "cell_type": "code",
   "execution_count": 10,
   "metadata": {},
   "outputs": [],
   "source": [
    "#заполнение пропусков нулями\n",
    "df_train = df_train.fillna(0)"
   ]
  },
  {
   "cell_type": "markdown",
   "metadata": {},
   "source": [
    "### Очистка текста"
   ]
  },
  {
   "cell_type": "markdown",
   "metadata": {},
   "source": [
    "Напишем функцию `text_clean_func` для очистки текста:"
   ]
  },
  {
   "cell_type": "code",
   "execution_count": 11,
   "metadata": {},
   "outputs": [],
   "source": [
    "def text_clean_func(text):\n",
    "    text = text.lower()\n",
    "    text = re.sub(r\"ё\", \"е\", text)\n",
    "    text = re.sub(\"[^a-zа-я]\", \" \", text)\n",
    "    shortword = re.compile(r'\\W*\\b[а-яa-z]{1}\\b')\n",
    "    text = shortword.sub(' ', text)\n",
    "    text = re.sub(\"\\s+\", \" \", text)\n",
    "    text = text.strip(' ')\n",
    "    return text"
   ]
  },
  {
   "cell_type": "code",
   "execution_count": 12,
   "metadata": {},
   "outputs": [
    {
     "name": "stdout",
     "output_type": "stream",
     "text": [
      "CPU times: user 247 ms, sys: 3.27 ms, total: 250 ms\n",
      "Wall time: 249 ms\n"
     ]
    }
   ],
   "source": [
    "%%time\n",
    "df_train['отзыв'] = df_train['отзыв'].apply(text_clean_func)"
   ]
  },
  {
   "cell_type": "markdown",
   "metadata": {},
   "source": [
    "### Лемматизация"
   ]
  },
  {
   "cell_type": "markdown",
   "metadata": {},
   "source": [
    "Напишем функцию `text_lemm_func` для лемматизации текста:"
   ]
  },
  {
   "cell_type": "code",
   "execution_count": 13,
   "metadata": {},
   "outputs": [],
   "source": [
    "morph = pymorphy2.MorphAnalyzer()\n",
    "def text_lemm_func(row):\n",
    "    tokens = word_tokenize(row)\n",
    "    words = [morph.parse(word)[0].normal_form for word in tokens]\n",
    "    lemm_row = ' '.join(words)\n",
    "    return lemm_row"
   ]
  },
  {
   "cell_type": "markdown",
   "metadata": {},
   "source": [
    "Применим функцию `text_lemm_func` к комментариям. Результат сохраним в колонке `отзыв_lemm`:"
   ]
  },
  {
   "cell_type": "code",
   "execution_count": 14,
   "metadata": {},
   "outputs": [
    {
     "name": "stdout",
     "output_type": "stream",
     "text": [
      "CPU times: user 24.8 s, sys: 28.4 ms, total: 24.9 s\n",
      "Wall time: 24.9 s\n"
     ]
    }
   ],
   "source": [
    "%%time\n",
    "df_train['отзыв_lemm'] = df_train['отзыв'].apply(text_lemm_func)"
   ]
  },
  {
   "cell_type": "code",
   "execution_count": 15,
   "metadata": {},
   "outputs": [
    {
     "data": {
      "text/html": [
       "<div>\n",
       "<style scoped>\n",
       "    .dataframe tbody tr th:only-of-type {\n",
       "        vertical-align: middle;\n",
       "    }\n",
       "\n",
       "    .dataframe tbody tr th {\n",
       "        vertical-align: top;\n",
       "    }\n",
       "\n",
       "    .dataframe thead th {\n",
       "        text-align: right;\n",
       "    }\n",
       "</style>\n",
       "<table border=\"1\" class=\"dataframe\">\n",
       "  <thead>\n",
       "    <tr style=\"text-align: right;\">\n",
       "      <th></th>\n",
       "      <th>отзыв</th>\n",
       "      <th>отзыв_lemm</th>\n",
       "    </tr>\n",
       "  </thead>\n",
       "  <tbody>\n",
       "    <tr>\n",
       "      <th>4674</th>\n",
       "      <td>полнейшем восторге нахожусь уже целую неделю вы гузель автор большой буквы сама являюсь потомком таких немцев жаль только что не узнала от моих предков историю их жизни знаю только что перед войной депортировали всех родственников одних казахстан других новосибирск третьих узбекистан читала представляла их на месте ваших героев огромное спасибо вам буду ждать нетерпением новых работ</td>\n",
       "      <td>полный восторг находиться уже целый неделя вы гузель автор большой буква сам являться потомок такой немец жаль только что не узнать от мой предок история они жизнь знать только что перед война депортировать весь родственник один казахстан другой новосибирск третий узбекистан читать представлять они на место ваш герой огромный спасибо вы быть ждать нетерпение новый работа</td>\n",
       "    </tr>\n",
       "    <tr>\n",
       "      <th>2733</th>\n",
       "      <td>книга вызывает очень противоречивые чувства самого начала заставляет читателя пробираться сквозь дебри своеобразного языка зачаровывает описаниями уральской природы отвращает сценами насилия секса держит напряжении до конца если говорить краеведческой ценности книги то потребуется облегченная редакция для неокрепших умов бывалым читателям она может показаться затянутой тем не менее хорошо что есть такая книга рекомендую читать чтобы составить собственное мнение</td>\n",
       "      <td>книга вызывать очень противоречивый чувство сам начало заставлять читатель пробираться сквозь дебри своеобразный язык зачаровывать описание уральский природа отвращать сцена насилие секс держать напряжение до конец если говорить краеведческий ценность книга то потребоваться облегчить редакция для неокрепший ум бывалый читатель она мочь показаться затянутый тем не менее хорошо что есть такой книга рекомендовать читать чтобы составить собственный мнение</td>\n",
       "    </tr>\n",
       "    <tr>\n",
       "      <th>271</th>\n",
       "      <td>не думала что так втянусь не хотела читать об этих страшных событиях но почитав отзывы купила книгу уже не могла оторваться жаль конец близок потрясающий язык настолько образный что создается впечатление погружения годы какие силы были нужны чтобы выжить аду</td>\n",
       "      <td>не думать что так втянуться не хотеть читать о этот страшный событие но почитать отзыв купить книга уже не мочь оторваться жаль конец близкий потрясать язык настолько образный что создаваться впечатление погружение год какой сила быть нужный чтобы выжить ад</td>\n",
       "    </tr>\n",
       "    <tr>\n",
       "      <th>1428</th>\n",
       "      <td>очень искренне захватывает не оторваться до последней страницы герои живые веришь происходящее безоговорочно жаль прощаться ними спасибо автору</td>\n",
       "      <td>очень искренне захватывать не оторваться до последний страница герой живой верить происходить безоговорочно жаль прощаться они спасибо автор</td>\n",
       "    </tr>\n",
       "    <tr>\n",
       "      <th>3827</th>\n",
       "      <td>пелевин не разочаровывает характерный слог динамичный сюжет лихо закрученный неожиданные развязки все три истории собранные книге неповторимы уникальны интересны по своему прекрасно</td>\n",
       "      <td>пелевин не разочаровывать характерный слог динамичный сюжет лихо закрутить неожиданный развязка всё три история собранный книга неповторимый уникальный интересный по свой прекрасно</td>\n",
       "    </tr>\n",
       "  </tbody>\n",
       "</table>\n",
       "</div>"
      ],
      "text/plain": [
       "                                                                                                                                                                                                                                                                                                                                                                                                                                                                                  отзыв  \\\n",
       "4674                                                                                  полнейшем восторге нахожусь уже целую неделю вы гузель автор большой буквы сама являюсь потомком таких немцев жаль только что не узнала от моих предков историю их жизни знаю только что перед войной депортировали всех родственников одних казахстан других новосибирск третьих узбекистан читала представляла их на месте ваших героев огромное спасибо вам буду ждать нетерпением новых работ   \n",
       "2733  книга вызывает очень противоречивые чувства самого начала заставляет читателя пробираться сквозь дебри своеобразного языка зачаровывает описаниями уральской природы отвращает сценами насилия секса держит напряжении до конца если говорить краеведческой ценности книги то потребуется облегченная редакция для неокрепших умов бывалым читателям она может показаться затянутой тем не менее хорошо что есть такая книга рекомендую читать чтобы составить собственное мнение   \n",
       "271                                                                                                                                                                                                                  не думала что так втянусь не хотела читать об этих страшных событиях но почитав отзывы купила книгу уже не могла оторваться жаль конец близок потрясающий язык настолько образный что создается впечатление погружения годы какие силы были нужны чтобы выжить аду   \n",
       "1428                                                                                                                                                                                                                                                                                                                                    очень искренне захватывает не оторваться до последней страницы герои живые веришь происходящее безоговорочно жаль прощаться ними спасибо автору   \n",
       "3827                                                                                                                                                                                                                                                                                              пелевин не разочаровывает характерный слог динамичный сюжет лихо закрученный неожиданные развязки все три истории собранные книге неповторимы уникальны интересны по своему прекрасно   \n",
       "\n",
       "                                                                                                                                                                                                                                                                                                                                                                                                                                                                   отзыв_lemm  \n",
       "4674                                                                                    полный восторг находиться уже целый неделя вы гузель автор большой буква сам являться потомок такой немец жаль только что не узнать от мой предок история они жизнь знать только что перед война депортировать весь родственник один казахстан другой новосибирск третий узбекистан читать представлять они на место ваш герой огромный спасибо вы быть ждать нетерпение новый работа  \n",
       "2733  книга вызывать очень противоречивый чувство сам начало заставлять читатель пробираться сквозь дебри своеобразный язык зачаровывать описание уральский природа отвращать сцена насилие секс держать напряжение до конец если говорить краеведческий ценность книга то потребоваться облегчить редакция для неокрепший ум бывалый читатель она мочь показаться затянутый тем не менее хорошо что есть такой книга рекомендовать читать чтобы составить собственный мнение  \n",
       "271                                                                                                                                                                                                         не думать что так втянуться не хотеть читать о этот страшный событие но почитать отзыв купить книга уже не мочь оторваться жаль конец близкий потрясать язык настолько образный что создаваться впечатление погружение год какой сила быть нужный чтобы выжить ад  \n",
       "1428                                                                                                                                                                                                                                                                                                                             очень искренне захватывать не оторваться до последний страница герой живой верить происходить безоговорочно жаль прощаться они спасибо автор  \n",
       "3827                                                                                                                                                                                                                                                                                     пелевин не разочаровывать характерный слог динамичный сюжет лихо закрутить неожиданный развязка всё три история собранный книга неповторимый уникальный интересный по свой прекрасно  "
      ]
     },
     "execution_count": 15,
     "metadata": {},
     "output_type": "execute_result"
    }
   ],
   "source": [
    "df_train[['отзыв', 'отзыв_lemm']].sample(5)"
   ]
  },
  {
   "cell_type": "markdown",
   "metadata": {},
   "source": [
    "### Количество слов тексте"
   ]
  },
  {
   "cell_type": "markdown",
   "metadata": {},
   "source": [
    "Добавим признак с количеством слов в комментарии `count_word`"
   ]
  },
  {
   "cell_type": "code",
   "execution_count": 16,
   "metadata": {},
   "outputs": [],
   "source": [
    "df_train['count_word'] = df_train['отзыв_lemm'].apply(lambda x: len(x.split()))"
   ]
  },
  {
   "cell_type": "code",
   "execution_count": 17,
   "metadata": {
    "scrolled": true
   },
   "outputs": [
    {
     "data": {
      "text/plain": [
       "count    4839.000000\n",
       "mean       43.673693\n",
       "std        45.343313\n",
       "min         0.000000\n",
       "25%        22.000000\n",
       "50%        31.000000\n",
       "75%        49.000000\n",
       "max       849.000000\n",
       "Name: count_word, dtype: float64"
      ]
     },
     "execution_count": 17,
     "metadata": {},
     "output_type": "execute_result"
    }
   ],
   "source": [
    "df_train['count_word'].describe()"
   ]
  },
  {
   "cell_type": "code",
   "execution_count": 18,
   "metadata": {
    "scrolled": true
   },
   "outputs": [
    {
     "name": "stdout",
     "output_type": "stream",
     "text": [
      "1\n"
     ]
    }
   ],
   "source": [
    "print(len(df_train.query('count_word == 0')))"
   ]
  },
  {
   "cell_type": "code",
   "execution_count": 19,
   "metadata": {},
   "outputs": [],
   "source": [
    "def histplot_boxplot(df, column, bins=127):\n",
    "    \"\"\"\n",
    "    df - датафрейм\n",
    "    column - название признака для построения графиков\n",
    "    bins - количество корзин (50 по умолчанию)\n",
    "    \n",
    "    \"\"\"\n",
    "    f, (ax_box, ax_hist) = plt.subplots(2, sharex=True, figsize=(10, 8))\n",
    "    sns.boxplot(data=df, \n",
    "                x=column,\n",
    "                y='длина_отзыва',\n",
    "                orient='h',\n",
    "                order=[1,0],\n",
    "                palette='pastel',\n",
    "                ax=ax_box)\n",
    "    sns.histplot(data=df, \n",
    "                 x=column, \n",
    "                 bins=bins, \n",
    "                 kde=True, \n",
    "                 palette='pastel', \n",
    "                 hue_order=[1,0],\n",
    "                 ax=ax_hist)\n",
    " \n",
    "    ax_box.set(xlabel='')\n",
    "    ax_box.set(title='Ящик с усами для \"{}\"'.format(column))\n",
    "    ax_hist.set(title='Распределение признака \"{}\"'.format(column))\n",
    "    plt.show()"
   ]
  },
  {
   "cell_type": "code",
   "execution_count": 20,
   "metadata": {
    "scrolled": false
   },
   "outputs": [
    {
     "data": {
      "image/png": "[encoded data removed]",
      "text/plain": [
       "<Figure size 1000x800 with 2 Axes>"
      ]
     },
     "metadata": {},
     "output_type": "display_data"
    }
   ],
   "source": [
    "histplot_boxplot(df_train, 'count_word')"
   ]
  },
  {
   "cell_type": "code",
   "execution_count": 21,
   "metadata": {},
   "outputs": [],
   "source": [
    "#заполнение нулевых комментариев заглушкой\n",
    "df_train.loc[df_train['count_word'] == 0, 'отзыв_lemm'] = 'пусто'"
   ]
  },
  {
   "cell_type": "markdown",
   "metadata": {
    "id": "w5fNLAa0h_dn"
   },
   "source": [
    "## Кодирование категориальных признаков"
   ]
  },
  {
   "cell_type": "code",
   "execution_count": 22,
   "metadata": {},
   "outputs": [],
   "source": [
    "enc = OrdinalEncoder(handle_unknown='use_encoded_value', unknown_value=-1)\n",
    "df_train[['автор','название_книги']] = (\n",
    "    enc.fit_transform(df_train[['автор','название_книги']].to_numpy())\n",
    ")"
   ]
  },
  {
   "cell_type": "code",
   "execution_count": 23,
   "metadata": {},
   "outputs": [
    {
     "name": "stdout",
     "output_type": "stream",
     "text": [
      "<class 'pandas.core.frame.DataFrame'>\n",
      "RangeIndex: 4839 entries, 0 to 4838\n",
      "Data columns (total 2 columns):\n",
      " #   Column          Non-Null Count  Dtype  \n",
      "---  ------          --------------  -----  \n",
      " 0   автор           4839 non-null   float64\n",
      " 1   название_книги  4839 non-null   float64\n",
      "dtypes: float64(2)\n",
      "memory usage: 75.7 KB\n"
     ]
    }
   ],
   "source": [
    "df_train[['автор','название_книги']].info()"
   ]
  },
  {
   "cell_type": "markdown",
   "metadata": {
    "id": "870l_9AGdTvF"
   },
   "source": [
    "## Разделим обучающую выборку"
   ]
  },
  {
   "cell_type": "code",
   "execution_count": 24,
   "metadata": {
    "id": "kPyQKVp8hdjK"
   },
   "outputs": [],
   "source": [
    "#целевые признаки\n",
    "target_label = ['релевантность', 'таксономия_релевантные', 'таксономия_не_релевантные',\\\n",
    "                'длина_отзыва', 'ценности']"
   ]
  },
  {
   "cell_type": "code",
   "execution_count": 25,
   "metadata": {},
   "outputs": [
    {
     "data": {
      "text/plain": [
       "['ссылка_на_литрес', 'имя_читателя', 'отзыв', 'отзыв_lemm', 'recordno']"
      ]
     },
     "execution_count": 25,
     "metadata": {},
     "output_type": "execute_result"
    }
   ],
   "source": [
    "# признаки с типом данных object\n",
    "object_label = df_train.dtypes[df_train.dtypes == \"object\"].index.to_list()\n",
    "object_label.append(\"recordno\")\n",
    "object_label"
   ]
  },
  {
   "cell_type": "code",
   "execution_count": 26,
   "metadata": {},
   "outputs": [],
   "source": [
    "X_train = df_train.drop(columns=target_label + object_label)"
   ]
  },
  {
   "cell_type": "code",
   "execution_count": 27,
   "metadata": {
    "id": "R4fN_sD-dGSG"
   },
   "outputs": [],
   "source": [
    "#целевые признаки\n",
    "y_train = df_train[target_label]"
   ]
  },
  {
   "cell_type": "code",
   "execution_count": 28,
   "metadata": {
    "colab": {
     "base_uri": "https://localhost:8080/"
    },
    "id": "Xbgef81UdZJL",
    "outputId": "edc984a7-992c-4bd2-a9d7-9e7f95385f7e"
   },
   "outputs": [
    {
     "name": "stdout",
     "output_type": "stream",
     "text": [
      "<class 'pandas.core.frame.DataFrame'>\n",
      "RangeIndex: 4839 entries, 0 to 4838\n",
      "Data columns (total 9 columns):\n",
      " #   Column                                Non-Null Count  Dtype  \n",
      "---  ------                                --------------  -----  \n",
      " 0   название_книги                        4839 non-null   float64\n",
      " 1   автор                                 4839 non-null   float64\n",
      " 2   рейтинг                               4839 non-null   float64\n",
      " 3   количество_оценок                     4839 non-null   int64  \n",
      " 4   количество_отзывов                    4839 non-null   int64  \n",
      " 5   оценка_книги_читателем_(из_5_баллов)  4839 non-null   float64\n",
      " 6   лайки_на_отзыв                        4839 non-null   int64  \n",
      " 7   дислайки_на_отзыв                     4839 non-null   int64  \n",
      " 8   count_word                            4839 non-null   int64  \n",
      "dtypes: float64(4), int64(5)\n",
      "memory usage: 340.4 KB\n"
     ]
    }
   ],
   "source": [
    "X_train.info()"
   ]
  },
  {
   "cell_type": "markdown",
   "metadata": {},
   "source": [
    "## тестовая выборка"
   ]
  },
  {
   "cell_type": "code",
   "execution_count": 29,
   "metadata": {},
   "outputs": [
    {
     "name": "stdout",
     "output_type": "stream",
     "text": [
      "<class 'pandas.core.frame.DataFrame'>\n",
      "RangeIndex: 2075 entries, 0 to 2074\n",
      "Data columns (total 12 columns):\n",
      " #   Column                                Non-Null Count  Dtype  \n",
      "---  ------                                --------------  -----  \n",
      " 0   RecordNo                              2075 non-null   int64  \n",
      " 1   Название книги                        2075 non-null   object \n",
      " 2   Автор                                 2075 non-null   object \n",
      " 3   Ссылка на литрес                      2075 non-null   object \n",
      " 4   Рейтинг                               2075 non-null   float64\n",
      " 5   Количество оценок                     2075 non-null   int64  \n",
      " 6   Количество отзывов                    2075 non-null   int64  \n",
      " 7   Имя читателя                          2075 non-null   object \n",
      " 8   Оценка книги читателем (из 5 баллов)  1757 non-null   float64\n",
      " 9   Отзыв                                 2075 non-null   object \n",
      " 10  Лайки на отзыв                        2075 non-null   int64  \n",
      " 11  Дислайки на отзыв                     2075 non-null   int64  \n",
      "dtypes: float64(2), int64(5), object(5)\n",
      "memory usage: 194.7+ KB\n"
     ]
    }
   ],
   "source": [
    "df_test = pd.read_csv(\"datasets/vologda_test_dataset_test.csv\")\n",
    "df_test.info()"
   ]
  },
  {
   "cell_type": "code",
   "execution_count": 30,
   "metadata": {},
   "outputs": [
    {
     "data": {
      "text/plain": [
       "Index(['recordno', 'название_книги', 'автор', 'ссылка_на_литрес', 'рейтинг',\n",
       "       'количество_оценок', 'количество_отзывов', 'имя_читателя',\n",
       "       'оценка_книги_читателем_(из_5_баллов)', 'отзыв', 'лайки_на_отзыв',\n",
       "       'дислайки_на_отзыв'],\n",
       "      dtype='object')"
      ]
     },
     "execution_count": 30,
     "metadata": {},
     "output_type": "execute_result"
    }
   ],
   "source": [
    "df_test.columns = df_test.columns.str.lower().str.replace(' ', '_')\n",
    "df_test.columns"
   ]
  },
  {
   "cell_type": "code",
   "execution_count": 31,
   "metadata": {},
   "outputs": [
    {
     "data": {
      "text/plain": [
       "recordno                                2075\n",
       "название_книги                            88\n",
       "автор                                     52\n",
       "ссылка_на_литрес                         118\n",
       "рейтинг                                   18\n",
       "количество_оценок                         95\n",
       "количество_отзывов                        57\n",
       "имя_читателя                            1915\n",
       "оценка_книги_читателем_(из_5_баллов)       5\n",
       "отзыв                                   2072\n",
       "лайки_на_отзыв                            70\n",
       "дислайки_на_отзыв                         35\n",
       "dtype: int64"
      ]
     },
     "execution_count": 31,
     "metadata": {},
     "output_type": "execute_result"
    }
   ],
   "source": [
    "df_test.nunique()"
   ]
  },
  {
   "cell_type": "code",
   "execution_count": 32,
   "metadata": {},
   "outputs": [],
   "source": [
    "#заполнение пропусков нулями\n",
    "df_test = df_test.fillna(0)"
   ]
  },
  {
   "cell_type": "markdown",
   "metadata": {},
   "source": [
    "### очистка и лемматизация"
   ]
  },
  {
   "cell_type": "code",
   "execution_count": 33,
   "metadata": {},
   "outputs": [
    {
     "name": "stdout",
     "output_type": "stream",
     "text": [
      "CPU times: user 117 ms, sys: 2.7 ms, total: 119 ms\n",
      "Wall time: 118 ms\n"
     ]
    }
   ],
   "source": [
    "%%time\n",
    "df_test['отзыв'] = df_test['отзыв'].apply(text_clean_func)"
   ]
  },
  {
   "cell_type": "code",
   "execution_count": 34,
   "metadata": {},
   "outputs": [
    {
     "name": "stdout",
     "output_type": "stream",
     "text": [
      "CPU times: user 11.3 s, sys: 12.7 ms, total: 11.3 s\n",
      "Wall time: 11.3 s\n"
     ]
    }
   ],
   "source": [
    "%%time\n",
    "df_test['отзыв_lemm'] = df_test['отзыв'].apply(text_lemm_func)"
   ]
  },
  {
   "cell_type": "code",
   "execution_count": 35,
   "metadata": {},
   "outputs": [
    {
     "data": {
      "text/html": [
       "<div>\n",
       "<style scoped>\n",
       "    .dataframe tbody tr th:only-of-type {\n",
       "        vertical-align: middle;\n",
       "    }\n",
       "\n",
       "    .dataframe tbody tr th {\n",
       "        vertical-align: top;\n",
       "    }\n",
       "\n",
       "    .dataframe thead th {\n",
       "        text-align: right;\n",
       "    }\n",
       "</style>\n",
       "<table border=\"1\" class=\"dataframe\">\n",
       "  <thead>\n",
       "    <tr style=\"text-align: right;\">\n",
       "      <th></th>\n",
       "      <th>отзыв</th>\n",
       "      <th>отзыв_lemm</th>\n",
       "    </tr>\n",
       "  </thead>\n",
       "  <tbody>\n",
       "    <tr>\n",
       "      <th>1497</th>\n",
       "      <td>вкусная пронизывающая до глубины души незабываемая поднимающая из глубин души все чувства выворачивающая их наизнанку заставляющая остановиться отдышаться вспомнить самом главном больше никогда об этом главном не забывать только закончив читать сразу же хочется все перечитать переосмыслить вновь все прочувствовать пережить</td>\n",
       "      <td>вкусный пронизывать до глубина душа незабываемый поднимать из глубина душа всё чувство выворачивать они наизнанку заставлять остановиться отдышаться вспомнить сам главный большой никогда о это главный не забывать только закончить читать сразу же хотеться всё перечитать переосмыслить вновь всё прочувствовать пережить</td>\n",
       "    </tr>\n",
       "    <tr>\n",
       "      <th>1659</th>\n",
       "      <td>меня не тронули ни язык ни герои ни сюжет прием связки сюжетных линий не нов тоже особого восторга не вызвал какая то алкогольная муть психически больные люди убивающие себя друзей или случайных прохожих только несколько удививших своей точностью выражений дали возможность поставить две звездочки из пяти можно только посочувствовать тем читателям которые узнают этих героях себя или утверждают что это про их жизнь очень гнусное ощущение после прочтения</td>\n",
       "      <td>я не тронуть ни язык ни герой ни сюжет приём связка сюжетный линия не новый тоже особый восторг не вызвать какой то алкогольный муть психически больной человек убивать себя друг или случайный прохожий только несколько удивить свой точность выражение дать возможность поставить два звёздочка из пять можно только посочувствовать тем читатель который узнавать этот герой себя или утверждать что это про они жизнь очень гнусный ощущение после прочтение</td>\n",
       "    </tr>\n",
       "    <tr>\n",
       "      <th>4</th>\n",
       "      <td>очень понравилась читается легко непростых судьбах людей конце расплакалась хорошая книга рекомендую всем особенно женщинам</td>\n",
       "      <td>очень понравиться читаться легко непростой судьба человек конец расплакаться хороший книга рекомендовать весь особенно женщина</td>\n",
       "    </tr>\n",
       "    <tr>\n",
       "      <th>1242</th>\n",
       "      <td>жаль что прочитал не читал гранина раньше даже как то неловко самому перед собой что не удосужился умно интеллигентно мудро любовью люди судьбы события это про нас вами для нас спасибо галине александровне ефимовой за такую встречу настоящей литературой</td>\n",
       "      <td>жаль что прочитать не читать гранин ранний даже как то неловко сам перед себя что не удосужиться умно интеллигентно мудро любовь человек судьба событие это про мы вы для мы спасибо галина александрович ефимов за такой встреча настоящий литература</td>\n",
       "    </tr>\n",
       "    <tr>\n",
       "      <th>772</th>\n",
       "      <td>пронзительная щемящая история рассказанная от имени кота полная оптимизма надежды непереносимой боли веры лучшее разочарования безграничной любви жизнь как она есть ее взлетами падениями любовью предательством нежностью жестокостью главный герой столько пережил точно прожил не одну все девять кошачьих жизней не озлобился не очерствел не утратил душевности способности любить</td>\n",
       "      <td>пронзительный щемить история рассказать от имя кот полный оптимизм надежда непереносимый боль вера хороший разочарование безграничный любовь жизнь как она есть она взлёт падение любовь предательство нежность жестокость главный герой столько пережить точно прожить не один всё девять кошачий жизнь не озлобиться не очерстветь не утратить душевность способность любить</td>\n",
       "    </tr>\n",
       "  </tbody>\n",
       "</table>\n",
       "</div>"
      ],
      "text/plain": [
       "                                                                                                                                                                                                                                                                                                                                                                                                                                                                        отзыв  \\\n",
       "1497                                                                                                                                     вкусная пронизывающая до глубины души незабываемая поднимающая из глубин души все чувства выворачивающая их наизнанку заставляющая остановиться отдышаться вспомнить самом главном больше никогда об этом главном не забывать только закончив читать сразу же хочется все перечитать переосмыслить вновь все прочувствовать пережить   \n",
       "1659  меня не тронули ни язык ни герои ни сюжет прием связки сюжетных линий не нов тоже особого восторга не вызвал какая то алкогольная муть психически больные люди убивающие себя друзей или случайных прохожих только несколько удививших своей точностью выражений дали возможность поставить две звездочки из пяти можно только посочувствовать тем читателям которые узнают этих героях себя или утверждают что это про их жизнь очень гнусное ощущение после прочтения   \n",
       "4                                                                                                                                                                                                                                                                                                                                                 очень понравилась читается легко непростых судьбах людей конце расплакалась хорошая книга рекомендую всем особенно женщинам   \n",
       "1242                                                                                                                                                                                                            жаль что прочитал не читал гранина раньше даже как то неловко самому перед собой что не удосужился умно интеллигентно мудро любовью люди судьбы события это про нас вами для нас спасибо галине александровне ефимовой за такую встречу настоящей литературой   \n",
       "772                                                                                  пронзительная щемящая история рассказанная от имени кота полная оптимизма надежды непереносимой боли веры лучшее разочарования безграничной любви жизнь как она есть ее взлетами падениями любовью предательством нежностью жестокостью главный герой столько пережил точно прожил не одну все девять кошачьих жизней не озлобился не очерствел не утратил душевности способности любить   \n",
       "\n",
       "                                                                                                                                                                                                                                                                                                                                                                                                                                                             отзыв_lemm  \n",
       "1497                                                                                                                                      вкусный пронизывать до глубина душа незабываемый поднимать из глубина душа всё чувство выворачивать они наизнанку заставлять остановиться отдышаться вспомнить сам главный большой никогда о это главный не забывать только закончить читать сразу же хотеться всё перечитать переосмыслить вновь всё прочувствовать пережить  \n",
       "1659  я не тронуть ни язык ни герой ни сюжет приём связка сюжетный линия не новый тоже особый восторг не вызвать какой то алкогольный муть психически больной человек убивать себя друг или случайный прохожий только несколько удивить свой точность выражение дать возможность поставить два звёздочка из пять можно только посочувствовать тем читатель который узнавать этот герой себя или утверждать что это про они жизнь очень гнусный ощущение после прочтение  \n",
       "4                                                                                                                                                                                                                                                                                                                                        очень понравиться читаться легко непростой судьба человек конец расплакаться хороший книга рекомендовать весь особенно женщина  \n",
       "1242                                                                                                                                                                                                             жаль что прочитать не читать гранин ранний даже как то неловко сам перед себя что не удосужиться умно интеллигентно мудро любовь человек судьба событие это про мы вы для мы спасибо галина александрович ефимов за такой встреча настоящий литература  \n",
       "772                                                                                      пронзительный щемить история рассказать от имя кот полный оптимизм надежда непереносимый боль вера хороший разочарование безграничный любовь жизнь как она есть она взлёт падение любовь предательство нежность жестокость главный герой столько пережить точно прожить не один всё девять кошачий жизнь не озлобиться не очерстветь не утратить душевность способность любить  "
      ]
     },
     "execution_count": 35,
     "metadata": {},
     "output_type": "execute_result"
    }
   ],
   "source": [
    "df_test[['отзыв', 'отзыв_lemm']].sample(5)"
   ]
  },
  {
   "cell_type": "code",
   "execution_count": 36,
   "metadata": {},
   "outputs": [
    {
     "data": {
      "text/html": [
       "<div>\n",
       "<style scoped>\n",
       "    .dataframe tbody tr th:only-of-type {\n",
       "        vertical-align: middle;\n",
       "    }\n",
       "\n",
       "    .dataframe tbody tr th {\n",
       "        vertical-align: top;\n",
       "    }\n",
       "\n",
       "    .dataframe thead th {\n",
       "        text-align: right;\n",
       "    }\n",
       "</style>\n",
       "<table border=\"1\" class=\"dataframe\">\n",
       "  <thead>\n",
       "    <tr style=\"text-align: right;\">\n",
       "      <th></th>\n",
       "      <th>колво_отзывов</th>\n",
       "    </tr>\n",
       "    <tr>\n",
       "      <th>название_книги</th>\n",
       "      <th></th>\n",
       "    </tr>\n",
       "  </thead>\n",
       "  <tbody>\n",
       "    <tr>\n",
       "      <th>Зулейха открывает глаза</th>\n",
       "      <td>650</td>\n",
       "    </tr>\n",
       "    <tr>\n",
       "      <th>Текст</th>\n",
       "      <td>233</td>\n",
       "    </tr>\n",
       "    <tr>\n",
       "      <th>Дети мои</th>\n",
       "      <td>223</td>\n",
       "    </tr>\n",
       "    <tr>\n",
       "      <th>Лавр</th>\n",
       "      <td>106</td>\n",
       "    </tr>\n",
       "    <tr>\n",
       "      <th>Авиатор</th>\n",
       "      <td>72</td>\n",
       "    </tr>\n",
       "    <tr>\n",
       "      <th>...</th>\n",
       "      <td>...</td>\n",
       "    </tr>\n",
       "    <tr>\n",
       "      <th>Немцы</th>\n",
       "      <td>1</td>\n",
       "    </tr>\n",
       "    <tr>\n",
       "      <th>Жених и невеста</th>\n",
       "      <td>1</td>\n",
       "    </tr>\n",
       "    <tr>\n",
       "      <th>Горячий снег</th>\n",
       "      <td>1</td>\n",
       "    </tr>\n",
       "    <tr>\n",
       "      <th>Господин Гексоген</th>\n",
       "      <td>1</td>\n",
       "    </tr>\n",
       "    <tr>\n",
       "      <th>Мгновения. Рассказы (сборник)</th>\n",
       "      <td>1</td>\n",
       "    </tr>\n",
       "  </tbody>\n",
       "</table>\n",
       "<p>88 rows × 1 columns</p>\n",
       "</div>"
      ],
      "text/plain": [
       "                               колво_отзывов\n",
       "название_книги                              \n",
       "Зулейха открывает глаза                  650\n",
       "Текст                                    233\n",
       "Дети мои                                 223\n",
       "Лавр                                     106\n",
       "Авиатор                                   72\n",
       "...                                      ...\n",
       "Немцы                                      1\n",
       "Жених и невеста                            1\n",
       "Горячий снег                               1\n",
       "Господин Гексоген                          1\n",
       "Мгновения. Рассказы (сборник)              1\n",
       "\n",
       "[88 rows x 1 columns]"
      ]
     },
     "execution_count": 36,
     "metadata": {},
     "output_type": "execute_result"
    }
   ],
   "source": [
    "(\n",
    "    df_test\n",
    "    .groupby('название_книги')\n",
    "    .agg(колво_отзывов=('отзыв','count'))\n",
    "    .sort_values(by='колво_отзывов', ascending=False)\n",
    ")"
   ]
  },
  {
   "cell_type": "markdown",
   "metadata": {},
   "source": [
    "### количество слов в комментариях"
   ]
  },
  {
   "cell_type": "markdown",
   "metadata": {},
   "source": [
    "Добавим признак с количеством слов в тексте"
   ]
  },
  {
   "cell_type": "code",
   "execution_count": 37,
   "metadata": {},
   "outputs": [],
   "source": [
    "df_test['count_word'] = df_test['отзыв_lemm'].apply(lambda x: len(x.split()))"
   ]
  },
  {
   "cell_type": "code",
   "execution_count": 38,
   "metadata": {
    "scrolled": true
   },
   "outputs": [
    {
     "data": {
      "text/plain": [
       "count    2075.000000\n",
       "mean       44.341687\n",
       "std        51.712472\n",
       "min         9.000000\n",
       "25%        22.000000\n",
       "50%        30.000000\n",
       "75%        49.000000\n",
       "max       999.000000\n",
       "Name: count_word, dtype: float64"
      ]
     },
     "execution_count": 38,
     "metadata": {},
     "output_type": "execute_result"
    }
   ],
   "source": [
    "df_test['count_word'].describe()"
   ]
  },
  {
   "cell_type": "code",
   "execution_count": 39,
   "metadata": {
    "scrolled": true
   },
   "outputs": [
    {
     "name": "stdout",
     "output_type": "stream",
     "text": [
      "0\n"
     ]
    }
   ],
   "source": [
    "print(len(df_test.query('count_word == 0')))"
   ]
  },
  {
   "cell_type": "code",
   "execution_count": 40,
   "metadata": {},
   "outputs": [
    {
     "data": {
      "text/plain": [
       "820                                 замечательный книга уверить что ещё не раз она послушать\n",
       "1600    интересный познавательный конец не понравиться кульминация захватывать читать захлёб\n",
       "Name: отзыв_lemm, dtype: object"
      ]
     },
     "execution_count": 40,
     "metadata": {},
     "output_type": "execute_result"
    }
   ],
   "source": [
    "df_test.query('count_word < 10')['отзыв_lemm']"
   ]
  },
  {
   "cell_type": "code",
   "execution_count": 41,
   "metadata": {},
   "outputs": [],
   "source": [
    "def histplot_boxplot(df, column, bins=127):\n",
    "    \"\"\"\n",
    "    df - датафрейм\n",
    "    column - название признака для построения графиков\n",
    "    bins - количество корзин (50 по умолчанию)\n",
    "    \n",
    "    \"\"\"\n",
    "    f, (ax_box, ax_hist) = plt.subplots(2, sharex=True, gridspec_kw={'height_ratios': (.13, .87)},\n",
    "                                        figsize=(10, 5))\n",
    "    sns.boxplot(data=df, \n",
    "                x=column,  \n",
    "                orient='h',\n",
    "                order=[1,0],\n",
    "                palette='pastel',\n",
    "                ax=ax_box)\n",
    "    sns.histplot(data=df, \n",
    "                 x=column, \n",
    "                 bins=bins, \n",
    "                 kde=True, \n",
    "                 palette='pastel', \n",
    "                 hue_order=[1,0],\n",
    "                 ax=ax_hist)\n",
    " \n",
    "    ax_box.set(xlabel='')\n",
    "    ax_box.set(title='Ящик с усами для \"{}\"'.format(column))\n",
    "    ax_hist.set(title='Распределение признака \"{}\"'.format(column))\n",
    "    plt.show()"
   ]
  },
  {
   "cell_type": "code",
   "execution_count": 42,
   "metadata": {
    "scrolled": false
   },
   "outputs": [
    {
     "data": {
      "image/png": "[encoded data removed]",
      "text/plain": [
       "<Figure size 1000x500 with 2 Axes>"
      ]
     },
     "metadata": {},
     "output_type": "display_data"
    }
   ],
   "source": [
    "histplot_boxplot(df_train, 'count_word')"
   ]
  },
  {
   "cell_type": "markdown",
   "metadata": {},
   "source": [
    "### категоризация"
   ]
  },
  {
   "cell_type": "code",
   "execution_count": 43,
   "metadata": {},
   "outputs": [],
   "source": [
    "df_test[['автор','название_книги']] = (\n",
    "    enc.transform(df_test[['автор','название_книги']].to_numpy())\n",
    ")"
   ]
  },
  {
   "cell_type": "code",
   "execution_count": 44,
   "metadata": {},
   "outputs": [],
   "source": [
    "# оставим признаки, которые есть в обучающей выборке\n",
    "X_test = df_test[X_train.columns.to_list()]"
   ]
  },
  {
   "cell_type": "markdown",
   "metadata": {
    "id": "wWOMlu5megED"
   },
   "source": [
    "## Подготовка к обучению"
   ]
  },
  {
   "cell_type": "markdown",
   "metadata": {},
   "source": [
    "Зафиксируем параметр псевдослучайности для наших моделей и выборок:"
   ]
  },
  {
   "cell_type": "code",
   "execution_count": 45,
   "metadata": {},
   "outputs": [],
   "source": [
    "rnd_st = 12345"
   ]
  },
  {
   "cell_type": "markdown",
   "metadata": {},
   "source": [
    "Напишем функцию `grid_search_func` для проведения поиска по решетке, вывода лучших параметров модели и метрики. Функция будет возвращать лучший оценщик"
   ]
  },
  {
   "cell_type": "code",
   "execution_count": 46,
   "metadata": {},
   "outputs": [],
   "source": [
    "recall = make_scorer(recall_score , average='macro')"
   ]
  },
  {
   "cell_type": "code",
   "execution_count": 47,
   "metadata": {},
   "outputs": [],
   "source": [
    "def grid_search_func(model, parameters, features_train, target_train):\n",
    "    \"\"\"\n",
    "    model - модель\n",
    "    param_grid - параметры для поиска по решетке\n",
    "    features_train - входные признаки обучающая выборка\n",
    "    target_train - входные признаки тестовая выборка\n",
    "    \n",
    "    \"\"\"\n",
    "    gs = GridSearchCV(estimator=model, param_grid=parameters, \n",
    "                      scoring=recall, cv=2, verbose=0)\n",
    "    gs.fit(features_train, target_train)\n",
    "    gs_best_estimator = gs.best_estimator_\n",
    "    print('Best parameters:', gs.best_params_)\n",
    "    print('Best recall = %.4f' % abs(gs.best_score_))\n",
    "    return gs_best_estimator"
   ]
  },
  {
   "cell_type": "markdown",
   "metadata": {},
   "source": [
    "## таргет релевантность"
   ]
  },
  {
   "cell_type": "code",
   "execution_count": 48,
   "metadata": {
    "scrolled": true
   },
   "outputs": [
    {
     "data": {
      "text/plain": [
       "0    0.78136\n",
       "1    0.21864\n",
       "Name: релевантность, dtype: float64"
      ]
     },
     "execution_count": 48,
     "metadata": {},
     "output_type": "execute_result"
    }
   ],
   "source": [
    "# выделение таргета\n",
    "y_train_1 = y_train['релевантность']\n",
    "y_train_1.value_counts(normalize=True)"
   ]
  },
  {
   "cell_type": "markdown",
   "metadata": {},
   "source": [
    "### CatBoostClassifier"
   ]
  },
  {
   "cell_type": "code",
   "execution_count": 49,
   "metadata": {},
   "outputs": [],
   "source": [
    "cbc_pipe = Pipeline([\n",
    "    ('vect', CountVectorizer(stop_words=stop_words)),\n",
    "    ('cl', CatBoostClassifier(random_state=rnd_st, \n",
    "                              loss_function='Logloss',\n",
    "                              silent=True))\n",
    "])\n",
    "\n",
    "param_grid = {\n",
    "    'cl__learning_rate': [0.01], \n",
    "    'cl__auto_class_weights': ['Balanced'],\n",
    "    'cl__max_depth': [5],\n",
    "}"
   ]
  },
  {
   "cell_type": "code",
   "execution_count": 50,
   "metadata": {
    "scrolled": true
   },
   "outputs": [
    {
     "name": "stdout",
     "output_type": "stream",
     "text": [
      "Best parameters: {'cl__auto_class_weights': 'Balanced', 'cl__learning_rate': 0.01, 'cl__max_depth': 5}\n",
      "Best recall = 0.7193\n",
      "CPU times: user 2min 24s, sys: 6.47 s, total: 2min 30s\n",
      "Wall time: 28.5 s\n"
     ]
    }
   ],
   "source": [
    "%%time\n",
    "cbc_gs_best_estimator = grid_search_func(cbc_pipe, \n",
    "                                         param_grid, \n",
    "                                         df_train['отзыв_lemm'],\n",
    "                                         y_train_1)"
   ]
  },
  {
   "cell_type": "markdown",
   "metadata": {},
   "source": [
    "### предсказание на тесте"
   ]
  },
  {
   "cell_type": "code",
   "execution_count": 51,
   "metadata": {
    "id": "m1g031fzexib",
    "scrolled": true
   },
   "outputs": [
    {
     "data": {
      "text/plain": [
       "array([[   0, 1454],\n",
       "       [   1,  621]])"
      ]
     },
     "execution_count": 51,
     "metadata": {},
     "output_type": "execute_result"
    }
   ],
   "source": [
    "y_pred_1 = cbc_gs_best_estimator.predict(df_test['отзыв_lemm'])\n",
    "np.asarray((np.unique(y_pred_1, return_counts=True))).T"
   ]
  },
  {
   "cell_type": "markdown",
   "metadata": {},
   "source": [
    "## таргет длина_отзыва"
   ]
  },
  {
   "cell_type": "code",
   "execution_count": 52,
   "metadata": {},
   "outputs": [
    {
     "data": {
      "text/plain": [
       "0    0.765241\n",
       "1    0.234759\n",
       "Name: длина_отзыва, dtype: float64"
      ]
     },
     "execution_count": 52,
     "metadata": {},
     "output_type": "execute_result"
    }
   ],
   "source": [
    "# выделение таргета\n",
    "y_train_2 = y_train['длина_отзыва']\n",
    "y_train_2.value_counts(normalize=True)"
   ]
  },
  {
   "cell_type": "markdown",
   "metadata": {},
   "source": [
    "### CatBoostClassifier"
   ]
  },
  {
   "cell_type": "code",
   "execution_count": 53,
   "metadata": {},
   "outputs": [],
   "source": [
    "cbc_model = CatBoostClassifier(random_state=rnd_st, \n",
    "                               loss_function='Logloss',\n",
    "                               silent=True)\n",
    "param_grid = {\n",
    "    'learning_rate': [0.001], \n",
    "    'auto_class_weights': ['Balanced'],\n",
    "    'max_depth': [2],\n",
    "}"
   ]
  },
  {
   "cell_type": "code",
   "execution_count": 54,
   "metadata": {
    "scrolled": true
   },
   "outputs": [
    {
     "name": "stdout",
     "output_type": "stream",
     "text": [
      "Best parameters: {'auto_class_weights': 'Balanced', 'learning_rate': 0.001, 'max_depth': 2}\n",
      "Best recall = 0.6930\n",
      "CPU times: user 24.2 s, sys: 1.15 s, total: 25.4 s\n",
      "Wall time: 2 s\n"
     ]
    }
   ],
   "source": [
    "%%time\n",
    "cbc_gs_best_estimator = grid_search_func(cbc_model, param_grid, X_train, y_train_2)"
   ]
  },
  {
   "cell_type": "markdown",
   "metadata": {},
   "source": [
    "### предсказание на тесте"
   ]
  },
  {
   "cell_type": "code",
   "execution_count": 55,
   "metadata": {},
   "outputs": [
    {
     "data": {
      "text/plain": [
       "array([[   0,  937],\n",
       "       [   1, 1138]])"
      ]
     },
     "execution_count": 55,
     "metadata": {},
     "output_type": "execute_result"
    }
   ],
   "source": [
    "y_pred_2 = cbc_gs_best_estimator.predict(X_test)\n",
    "np.asarray((np.unique(y_pred_2, return_counts=True))).T"
   ]
  },
  {
   "cell_type": "markdown",
   "metadata": {},
   "source": [
    "## таргет таксономия_релевантные"
   ]
  },
  {
   "cell_type": "code",
   "execution_count": 56,
   "metadata": {},
   "outputs": [
    {
     "data": {
      "text/plain": [
       "1    0.512296\n",
       "0    0.487704\n",
       "Name: таксономия_релевантные, dtype: float64"
      ]
     },
     "execution_count": 56,
     "metadata": {},
     "output_type": "execute_result"
    }
   ],
   "source": [
    "# выделение таргета\n",
    "y_train_3 = y_train['таксономия_релевантные']\n",
    "y_train_3.value_counts(normalize=True)"
   ]
  },
  {
   "cell_type": "markdown",
   "metadata": {},
   "source": [
    "### CatBoostClassifier"
   ]
  },
  {
   "cell_type": "code",
   "execution_count": 57,
   "metadata": {},
   "outputs": [],
   "source": [
    "cbc_pipe = Pipeline([\n",
    "    ('vect', CountVectorizer(stop_words=stop_words)),\n",
    "    ('cl', CatBoostClassifier(random_state=rnd_st, \n",
    "                              loss_function='Logloss',\n",
    "                              silent=True))\n",
    "])\n",
    "\n",
    "\n",
    "param_grid = {\n",
    "    'cl__learning_rate': [0.03], \n",
    "    'cl__iterations': [1000],\n",
    "    'cl__auto_class_weights': ['Balanced'],\n",
    "    'cl__max_depth': [5],\n",
    "}"
   ]
  },
  {
   "cell_type": "code",
   "execution_count": 58,
   "metadata": {},
   "outputs": [
    {
     "name": "stdout",
     "output_type": "stream",
     "text": [
      "Best parameters: {'cl__auto_class_weights': 'Balanced', 'cl__iterations': 1000, 'cl__learning_rate': 0.03, 'cl__max_depth': 5}\n",
      "Best recall = 0.9915\n",
      "CPU times: user 2min 24s, sys: 6.39 s, total: 2min 31s\n",
      "Wall time: 28.5 s\n"
     ]
    }
   ],
   "source": [
    "%%time\n",
    "cbc_gs_best_estimator = grid_search_func(cbc_pipe, \n",
    "                                         param_grid, \n",
    "                                         df_train['отзыв_lemm'],\n",
    "                                         y_train_3)"
   ]
  },
  {
   "cell_type": "markdown",
   "metadata": {},
   "source": [
    "### предсказание на тесте"
   ]
  },
  {
   "cell_type": "code",
   "execution_count": 59,
   "metadata": {
    "id": "m1g031fzexib",
    "scrolled": true
   },
   "outputs": [
    {
     "data": {
      "text/plain": [
       "array([[   0, 1067],\n",
       "       [   1, 1008]])"
      ]
     },
     "execution_count": 59,
     "metadata": {},
     "output_type": "execute_result"
    }
   ],
   "source": [
    "y_pred_3 = cbc_gs_best_estimator.predict(df_test['отзыв_lemm'])\n",
    "np.asarray((np.unique(y_pred_3, return_counts=True))).T"
   ]
  },
  {
   "cell_type": "markdown",
   "metadata": {},
   "source": [
    "## таксономия_не_релевантные"
   ]
  },
  {
   "cell_type": "code",
   "execution_count": 60,
   "metadata": {
    "scrolled": true
   },
   "outputs": [
    {
     "data": {
      "text/plain": [
       "0    0.873114\n",
       "1    0.126886\n",
       "Name: таксономия_не_релевантные, dtype: float64"
      ]
     },
     "execution_count": 60,
     "metadata": {},
     "output_type": "execute_result"
    }
   ],
   "source": [
    "# выделение таргета\n",
    "y_train_4 = y_train['таксономия_не_релевантные']\n",
    "y_train_4.value_counts(normalize=True)"
   ]
  },
  {
   "cell_type": "markdown",
   "metadata": {},
   "source": [
    "### CatBoostClassifier"
   ]
  },
  {
   "cell_type": "code",
   "execution_count": 61,
   "metadata": {},
   "outputs": [],
   "source": [
    "cbc_pipe = Pipeline([\n",
    "    ('vect', CountVectorizer(stop_words=stop_words)),\n",
    "    ('cl', CatBoostClassifier(random_state=rnd_st,\n",
    "                              loss_function='Logloss',\n",
    "                              silent=True))\n",
    "])\n",
    "\n",
    "param_grid = {\n",
    "    'cl__iterations': [1000],\n",
    "    'cl__learning_rate': [0.15], \n",
    "    'cl__auto_class_weights': ['SqrtBalanced'],\n",
    "    'cl__max_depth': [3], \n",
    "}"
   ]
  },
  {
   "cell_type": "code",
   "execution_count": 62,
   "metadata": {
    "scrolled": true
   },
   "outputs": [
    {
     "name": "stdout",
     "output_type": "stream",
     "text": [
      "Best parameters: {'cl__auto_class_weights': 'SqrtBalanced', 'cl__iterations': 1000, 'cl__learning_rate': 0.15, 'cl__max_depth': 3}\n",
      "Best recall = 0.9829\n",
      "CPU times: user 1min 19s, sys: 3.82 s, total: 1min 23s\n",
      "Wall time: 16.9 s\n"
     ]
    }
   ],
   "source": [
    "%%time\n",
    "cbc_gs_best_estimator = grid_search_func(cbc_pipe, \n",
    "                                         param_grid, \n",
    "                                         df_train['отзыв_lemm'],\n",
    "                                         y_train_4)"
   ]
  },
  {
   "cell_type": "markdown",
   "metadata": {},
   "source": [
    "### предсказание на тесте"
   ]
  },
  {
   "cell_type": "code",
   "execution_count": 63,
   "metadata": {},
   "outputs": [
    {
     "data": {
      "text/plain": [
       "array([[   0, 1793],\n",
       "       [   1,  282]])"
      ]
     },
     "execution_count": 63,
     "metadata": {},
     "output_type": "execute_result"
    }
   ],
   "source": [
    "y_pred_4 = cbc_gs_best_estimator.predict(df_test['отзыв_lemm'])\n",
    "np.asarray((np.unique(y_pred_4, return_counts=True))).T"
   ]
  },
  {
   "cell_type": "markdown",
   "metadata": {},
   "source": [
    "## таргет ценности"
   ]
  },
  {
   "cell_type": "code",
   "execution_count": 64,
   "metadata": {},
   "outputs": [
    {
     "data": {
      "text/plain": [
       "1    0.542054\n",
       "0    0.457946\n",
       "Name: ценности, dtype: float64"
      ]
     },
     "execution_count": 64,
     "metadata": {},
     "output_type": "execute_result"
    }
   ],
   "source": [
    "# выделение таргета\n",
    "y_train_5 = y_train['ценности']\n",
    "y_train_5.value_counts(normalize=True)"
   ]
  },
  {
   "cell_type": "markdown",
   "metadata": {},
   "source": [
    "### CatBoostClassifier"
   ]
  },
  {
   "cell_type": "code",
   "execution_count": 65,
   "metadata": {},
   "outputs": [],
   "source": [
    "cbc_pipe = Pipeline([\n",
    "    ('vect', CountVectorizer(stop_words=stop_words)),\n",
    "    ('cl', CatBoostClassifier(random_state=rnd_st, \n",
    "                              loss_function='Logloss',\n",
    "                              silent=True))\n",
    "])\n",
    "\n",
    "param_grid = {\n",
    "    'cl__learning_rate': [0.04], \n",
    "    'cl__auto_class_weights': ['None'],\n",
    "    'cl__max_depth': [6], \n",
    "}"
   ]
  },
  {
   "cell_type": "code",
   "execution_count": 66,
   "metadata": {},
   "outputs": [
    {
     "name": "stdout",
     "output_type": "stream",
     "text": [
      "Best parameters: {'cl__auto_class_weights': 'None', 'cl__learning_rate': 0.04, 'cl__max_depth': 6}\n",
      "Best recall = 0.9718\n",
      "CPU times: user 3min 14s, sys: 6.53 s, total: 3min 21s\n",
      "Wall time: 35.1 s\n"
     ]
    }
   ],
   "source": [
    "%%time\n",
    "cbc_gs_best_estimator = grid_search_func(cbc_pipe, \n",
    "                                         param_grid, \n",
    "                                         df_train['отзыв_lemm'],\n",
    "                                         y_train_5)"
   ]
  },
  {
   "cell_type": "markdown",
   "metadata": {},
   "source": [
    "### предсказание на тесте"
   ]
  },
  {
   "cell_type": "code",
   "execution_count": 67,
   "metadata": {},
   "outputs": [
    {
     "data": {
      "text/plain": [
       "array([[   0,  966],\n",
       "       [   1, 1109]])"
      ]
     },
     "execution_count": 67,
     "metadata": {},
     "output_type": "execute_result"
    }
   ],
   "source": [
    "y_pred_5 = cbc_gs_best_estimator.predict(df_test['отзыв_lemm'])\n",
    "np.asarray((np.unique(y_pred_5, return_counts=True))).T"
   ]
  },
  {
   "cell_type": "markdown",
   "metadata": {
    "id": "vUPON7vxenEJ"
   },
   "source": [
    "## Подготовка результатов"
   ]
  },
  {
   "cell_type": "code",
   "execution_count": 68,
   "metadata": {},
   "outputs": [
    {
     "data": {
      "text/plain": [
       "(2075, 5)"
      ]
     },
     "execution_count": 68,
     "metadata": {},
     "output_type": "execute_result"
    }
   ],
   "source": [
    "#объединение результатов предсказания\n",
    "predictions = np.concatenate((y_pred_1.reshape(-1,1),\n",
    "                              y_pred_3.reshape(-1,1),\n",
    "                              y_pred_4.reshape(-1,1),\n",
    "                              y_pred_2.reshape(-1,1),\n",
    "                              y_pred_5.reshape(-1,1)), \n",
    "                             axis=1)\n",
    "predictions.shape"
   ]
  },
  {
   "cell_type": "markdown",
   "metadata": {
    "id": "SJw5Si4gnHwZ"
   },
   "source": [
    "### запись в файл"
   ]
  },
  {
   "cell_type": "code",
   "execution_count": 69,
   "metadata": {},
   "outputs": [
    {
     "data": {
      "text/html": [
       "<div>\n",
       "<style scoped>\n",
       "    .dataframe tbody tr th:only-of-type {\n",
       "        vertical-align: middle;\n",
       "    }\n",
       "\n",
       "    .dataframe tbody tr th {\n",
       "        vertical-align: top;\n",
       "    }\n",
       "\n",
       "    .dataframe thead th {\n",
       "        text-align: right;\n",
       "    }\n",
       "</style>\n",
       "<table border=\"1\" class=\"dataframe\">\n",
       "  <thead>\n",
       "    <tr style=\"text-align: right;\">\n",
       "      <th></th>\n",
       "      <th>RecordNo</th>\n",
       "      <th>Релевантность</th>\n",
       "      <th>Таксономия релевантные</th>\n",
       "      <th>Таксономия не релевантные</th>\n",
       "      <th>Длина отзыва</th>\n",
       "      <th>Ценности</th>\n",
       "    </tr>\n",
       "  </thead>\n",
       "  <tbody>\n",
       "    <tr>\n",
       "      <th>0</th>\n",
       "      <td>3366</td>\n",
       "      <td>0</td>\n",
       "      <td>0</td>\n",
       "      <td>0</td>\n",
       "      <td>0</td>\n",
       "      <td>0</td>\n",
       "    </tr>\n",
       "    <tr>\n",
       "      <th>1</th>\n",
       "      <td>3952</td>\n",
       "      <td>0</td>\n",
       "      <td>0</td>\n",
       "      <td>0</td>\n",
       "      <td>0</td>\n",
       "      <td>0</td>\n",
       "    </tr>\n",
       "    <tr>\n",
       "      <th>2</th>\n",
       "      <td>6852</td>\n",
       "      <td>0</td>\n",
       "      <td>0</td>\n",
       "      <td>0</td>\n",
       "      <td>0</td>\n",
       "      <td>0</td>\n",
       "    </tr>\n",
       "    <tr>\n",
       "      <th>3</th>\n",
       "      <td>4586</td>\n",
       "      <td>0</td>\n",
       "      <td>0</td>\n",
       "      <td>0</td>\n",
       "      <td>0</td>\n",
       "      <td>0</td>\n",
       "    </tr>\n",
       "    <tr>\n",
       "      <th>4</th>\n",
       "      <td>4677</td>\n",
       "      <td>0</td>\n",
       "      <td>0</td>\n",
       "      <td>0</td>\n",
       "      <td>0</td>\n",
       "      <td>0</td>\n",
       "    </tr>\n",
       "  </tbody>\n",
       "</table>\n",
       "</div>"
      ],
      "text/plain": [
       "   RecordNo  Релевантность  Таксономия релевантные  Таксономия не релевантные  \\\n",
       "0      3366              0                       0                          0   \n",
       "1      3952              0                       0                          0   \n",
       "2      6852              0                       0                          0   \n",
       "3      4586              0                       0                          0   \n",
       "4      4677              0                       0                          0   \n",
       "\n",
       "   Длина отзыва  Ценности  \n",
       "0             0         0  \n",
       "1             0         0  \n",
       "2             0         0  \n",
       "3             0         0  \n",
       "4             0         0  "
      ]
     },
     "execution_count": 69,
     "metadata": {},
     "output_type": "execute_result"
    }
   ],
   "source": [
    "df_sample_solution = pd.read_csv(\"datasets/vologda_sample_solution.csv\")\n",
    "df_sample_solution.head()"
   ]
  },
  {
   "cell_type": "code",
   "execution_count": 70,
   "metadata": {},
   "outputs": [],
   "source": [
    "df_sample_solution[['Релевантность', 'Таксономия релевантные',\n",
    "       'Таксономия не релевантные', 'Длина отзыва', 'Ценности']] = predictions"
   ]
  },
  {
   "cell_type": "code",
   "execution_count": 71,
   "metadata": {},
   "outputs": [],
   "source": [
    "df_sample_solution.to_csv(\"datasets/vologda_sample_solution_submit.csv\", index=False)"
   ]
  },
  {
   "cell_type": "code",
   "execution_count": 72,
   "metadata": {},
   "outputs": [
    {
     "data": {
      "text/plain": [
       "(2075, 6)"
      ]
     },
     "execution_count": 72,
     "metadata": {},
     "output_type": "execute_result"
    }
   ],
   "source": [
    "df_sample_solution.shape"
   ]
  },
  {
   "cell_type": "code",
   "execution_count": 73,
   "metadata": {},
   "outputs": [
    {
     "data": {
      "text/html": [
       "<div>\n",
       "<style scoped>\n",
       "    .dataframe tbody tr th:only-of-type {\n",
       "        vertical-align: middle;\n",
       "    }\n",
       "\n",
       "    .dataframe tbody tr th {\n",
       "        vertical-align: top;\n",
       "    }\n",
       "\n",
       "    .dataframe thead th {\n",
       "        text-align: right;\n",
       "    }\n",
       "</style>\n",
       "<table border=\"1\" class=\"dataframe\">\n",
       "  <thead>\n",
       "    <tr style=\"text-align: right;\">\n",
       "      <th></th>\n",
       "      <th>RecordNo</th>\n",
       "      <th>Релевантность</th>\n",
       "      <th>Таксономия релевантные</th>\n",
       "      <th>Таксономия не релевантные</th>\n",
       "      <th>Длина отзыва</th>\n",
       "      <th>Ценности</th>\n",
       "    </tr>\n",
       "  </thead>\n",
       "  <tbody>\n",
       "    <tr>\n",
       "      <th>0</th>\n",
       "      <td>3366</td>\n",
       "      <td>1</td>\n",
       "      <td>0</td>\n",
       "      <td>0</td>\n",
       "      <td>1</td>\n",
       "      <td>1</td>\n",
       "    </tr>\n",
       "    <tr>\n",
       "      <th>1</th>\n",
       "      <td>3952</td>\n",
       "      <td>0</td>\n",
       "      <td>1</td>\n",
       "      <td>0</td>\n",
       "      <td>1</td>\n",
       "      <td>0</td>\n",
       "    </tr>\n",
       "    <tr>\n",
       "      <th>2</th>\n",
       "      <td>6852</td>\n",
       "      <td>0</td>\n",
       "      <td>0</td>\n",
       "      <td>0</td>\n",
       "      <td>0</td>\n",
       "      <td>1</td>\n",
       "    </tr>\n",
       "    <tr>\n",
       "      <th>3</th>\n",
       "      <td>4586</td>\n",
       "      <td>0</td>\n",
       "      <td>0</td>\n",
       "      <td>0</td>\n",
       "      <td>0</td>\n",
       "      <td>1</td>\n",
       "    </tr>\n",
       "    <tr>\n",
       "      <th>4</th>\n",
       "      <td>4677</td>\n",
       "      <td>1</td>\n",
       "      <td>1</td>\n",
       "      <td>0</td>\n",
       "      <td>1</td>\n",
       "      <td>0</td>\n",
       "    </tr>\n",
       "  </tbody>\n",
       "</table>\n",
       "</div>"
      ],
      "text/plain": [
       "   RecordNo  Релевантность  Таксономия релевантные  Таксономия не релевантные  \\\n",
       "0      3366              1                       0                          0   \n",
       "1      3952              0                       1                          0   \n",
       "2      6852              0                       0                          0   \n",
       "3      4586              0                       0                          0   \n",
       "4      4677              1                       1                          0   \n",
       "\n",
       "   Длина отзыва  Ценности  \n",
       "0             1         1  \n",
       "1             1         0  \n",
       "2             0         1  \n",
       "3             0         1  \n",
       "4             1         0  "
      ]
     },
     "execution_count": 73,
     "metadata": {},
     "output_type": "execute_result"
    }
   ],
   "source": [
    "df_sample_solution.head()"
   ]
  }
 ],
 "metadata": {
  "colab": {
   "name": "Культурный_baseline.ipynb",
   "provenance": []
  },
  "kernelspec": {
   "display_name": "Python 3 (ipykernel)",
   "language": "python",
   "name": "python3"
  },
  "language_info": {
   "codemirror_mode": {
    "name": "ipython",
    "version": 3
   },
   "file_extension": ".py",
   "mimetype": "text/x-python",
   "name": "python",
   "nbconvert_exporter": "python",
   "pygments_lexer": "ipython3",
   "version": "3.9.13"
  },
  "toc": {
   "base_numbering": 1,
   "nav_menu": {},
   "number_sections": true,
   "sideBar": true,
   "skip_h1_title": true,
   "title_cell": "Содержание",
   "title_sidebar": "Содержание",
   "toc_cell": true,
   "toc_position": {
    "height": "calc(100% - 180px)",
    "left": "10px",
    "top": "150px",
    "width": "479.1875px"
   },
   "toc_section_display": true,
   "toc_window_display": true
  }
 },
 "nbformat": 4,
 "nbformat_minor": 1
}
